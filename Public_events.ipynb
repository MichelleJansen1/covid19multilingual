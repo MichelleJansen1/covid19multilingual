{
 "cells": [
  {
   "cell_type": "markdown",
   "metadata": {},
   "source": [
    "## <b>Public events analysis</b>\n",
    "<i>This script can be used to analyse if the differences in topics and sentiments over time and space are caused by pubic events. In addition, a Kruskal-Wallis test and a Mann-Whitney test are executed to see if the number of COVID-19 cases have an influence on the sentiment of people </i>\n"
   ]
  },
  {
   "cell_type": "code",
   "execution_count": 35,
   "metadata": {},
   "outputs": [],
   "source": [
    "#Import needed libraries\n",
    "import pandas as pd\n",
    "import numpy as np\n",
    "import geopandas as gpd\n",
    "import pyproj\n",
    "import matplotlib.pyplot as plt\n",
    "plt.style.use('seaborn')\n",
    "\n",
    "#Read the data with pandas\n",
    "outputgermany = pd.read_csv('Data\\\\sentimenttopic70_tweets_germany.csv')\n",
    "tweets_germany = pd.DataFrame(outputgermany)\n",
    "\n",
    "#Convert DateTime column to two columns containing the date and the time\n",
    "tweets_germany[['Date', 'Time']] = tweets_germany['t_datetime_goed'].str.split(expand=True)\n",
    "\n",
    "#Add topic names again\n",
    "conditions = [\n",
    "    (tweets_germany['Topic'] == -1),\n",
    "    (tweets_germany['Topic'] == 0) | (tweets_germany['Topic'] == 2)| (tweets_germany['Topic'] == 4) | (tweets_germany['Topic'] == 6) | (tweets_germany['Topic'] == 13), \n",
    "    (tweets_germany['Topic'] == 1) | (tweets_germany['Topic'] == 5)| (tweets_germany['Topic'] == 10)  | (tweets_germany['Topic'] == 14) | (tweets_germany['Topic'] == 15), \n",
    "    (tweets_germany['Topic'] == 3) | (tweets_germany['Topic'] == 7)| (tweets_germany['Topic'] == 8) | (tweets_germany['Topic'] == 9) | (tweets_germany['Topic'] == 11)| (tweets_germany['Topic'] == 12)\n",
    "    ]\n",
    "\n",
    "values = ['outlier', 'coronapolicies','prevention','lockdownactivities']\n",
    "tweets_germany['nametopic'] = np.select(conditions, values)\n",
    "\n",
    "#Convert labels into -1,0,1 so it can be used in array\n",
    "conditions = [\n",
    "    (tweets_germany['label'] == 'Negative'),\n",
    "    (tweets_germany['label'] == 'Positive'),\n",
    "    (tweets_germany['label'] == 'Neutral') \n",
    "    ]\n",
    "\n",
    "values = ['-1', '1','0']\n",
    "tweets_germany['numbersentiment'] = np.select(conditions, values)\n",
    "\n",
    "#Convert topicname into numbers\n",
    "conditions = [\n",
    "    (tweets_germany['nametopic'] == 'outlier'),\n",
    "    (tweets_germany['nametopic'] == 'coronapolicies'),\n",
    "    (tweets_germany['nametopic'] == 'lockdownactivities'),\n",
    "    (tweets_germany['nametopic'] == 'prevention')\n",
    "    ]\n",
    "\n",
    "values = ['-1', '1','2','3']\n",
    "tweets_germany['numbertopicname'] = np.select(conditions, values)\n",
    "\n",
    "#Create geodataframe\n",
    "geotweets = gpd.GeoDataFrame(tweets_germany, geometry=gpd.points_from_xy(tweets_germany.x, tweets_germany.y))\n",
    "geotweets = geotweets.set_crs('EPSG:4326')"
   ]
  },
  {
   "cell_type": "markdown",
   "metadata": {},
   "source": [
    "Create df of the cases per day per state"
   ]
  },
  {
   "cell_type": "code",
   "execution_count": null,
   "metadata": {},
   "outputs": [],
   "source": [
    "cases = pd.read_csv('Data\\\\covid_19_cases.csv', encoding='unicode_escape')"
   ]
  },
  {
   "cell_type": "code",
   "execution_count": null,
   "metadata": {},
   "outputs": [],
   "source": [
    "cases = pd.read_csv('Data\\\\covid_19_cases.csv', encoding='unicode_escape')\n",
    "cases['Date_goed'] = pd.to_datetime(cases['Date'], format='%d-%m-%y')\n",
    "cases = cases.rename({'Region':'State'}, axis=1)"
   ]
  },
  {
   "cell_type": "markdown",
   "metadata": {},
   "source": [
    "Create one df of the tweets and cases"
   ]
  },
  {
   "cell_type": "code",
   "execution_count": null,
   "metadata": {},
   "outputs": [],
   "source": [
    "covidcases = cases[['State', 'Date', 'CurrentlyPositive']]\n",
    "covidcases['Date'] = covidcases['Date'].astype(str)\n",
    "tweets_germany['Date'] = tweets_germany['Date'].astype(str)\n",
    "\n",
    "mergecases = tweets_germany.merge(covidcases, on=['State', 'Date'], how='inner')\n",
    "\n",
    "#Create column with month and year of tweet\n",
    "mergecases['month_year'] = pd.to_datetime(mergecases['Date'], format = '%d-%m-%y').dt.to_period('m')"
   ]
  },
  {
   "cell_type": "markdown",
   "metadata": {},
   "source": [
    "Kruskal-Wallis test"
   ]
  },
  {
   "cell_type": "code",
   "execution_count": null,
   "metadata": {},
   "outputs": [],
   "source": [
    "import scipy.stats as stats\n",
    "\n",
    "#Test for Germany\n",
    "\n",
    "# convert `y` to a numpy array for more convenient indexing\n",
    "y = np.array(mergecases['CurrentlyPositive'])\n",
    "\n",
    "# find unique group labels and their corresponding indices\n",
    "label, idx = np.unique(mergecases['numbersentiment'], return_inverse=True)\n",
    "\n",
    "# make a list of arrays containing the y-values corresponding to each unique label\n",
    "groups = [y[idx == i] for i, l in enumerate(label)]\n",
    "\n",
    "# use `*` to unpack the list as a sequence of arguments to `stats.kruskal`\n",
    "H, p = stats.kruskal(*groups)\n",
    "\n",
    "print(H, p)"
   ]
  },
  {
   "cell_type": "code",
   "execution_count": 53,
   "metadata": {},
   "outputs": [],
   "source": [
    "#Test for the states of Germany\n",
    "\n",
    "def kruskalwallis (state):\n",
    "    df = mergecases[mergecases['State'] == state]\n",
    "    y = np.array(df['CurrentlyPositive'])\n",
    "    label, idx = np.unique(df['numbersentiment'], return_inverse=True)\n",
    "    groups = [y[idx == i] for i, l in enumerate(label)]\n",
    "    H, p = stats.kruskal(*groups)\n",
    "    print(state, H, p)\n"
   ]
  },
  {
   "cell_type": "code",
   "execution_count": null,
   "metadata": {},
   "outputs": [],
   "source": [
    "states = geotweets['State'].unique().tolist()\n",
    "del states[4]\n",
    "\n",
    "for state in states:\n",
    "    kruskalwallis(state)"
   ]
  },
  {
   "cell_type": "markdown",
   "metadata": {},
   "source": [
    "Mann-Whitney test"
   ]
  },
  {
   "cell_type": "code",
   "execution_count": null,
   "metadata": {},
   "outputs": [],
   "source": [
    "#MW for germany\n",
    "\n",
    "case = np.array(mergecases['CurrentlyPositive']).astype(float)\n",
    "sent = np.array(mergecases['numbersentiment']).astype(float)\n",
    "\n",
    "print(stats.mannwhitneyu(case, sent))"
   ]
  },
  {
   "cell_type": "code",
   "execution_count": 76,
   "metadata": {},
   "outputs": [],
   "source": [
    "#states where kruskal wallis was signicant in list\n",
    "states = ['Bayern', 'Hessen', 'Saarland', 'Thüringen']"
   ]
  },
  {
   "cell_type": "code",
   "execution_count": 78,
   "metadata": {},
   "outputs": [],
   "source": [
    "labels = geotweets['label'].unique().tolist()\n",
    "\n",
    "def mannwhitney (state, label):\n",
    "    df = mergecases[mergecases['State'] == state]\n",
    "    df2 = df[df['label'] == label]\n",
    "\n",
    "    case = np.array(df2['CurrentlyPositive']).astype(float)\n",
    "    sent = np.array(df2['numbersentiment']).astype(float)\n",
    "\n",
    "    print(state, label, stats.mannwhitneyu(case, sent))\n"
   ]
  },
  {
   "cell_type": "code",
   "execution_count": null,
   "metadata": {},
   "outputs": [],
   "source": [
    "for state in states:\n",
    "    for label in labels:\n",
    "        mannwhitney(state, label)"
   ]
  }
 ],
 "metadata": {
  "kernelspec": {
   "display_name": "Python 3.8.12 ('spatialanalysis2')",
   "language": "python",
   "name": "python3"
  },
  "language_info": {
   "codemirror_mode": {
    "name": "ipython",
    "version": 3
   },
   "file_extension": ".py",
   "mimetype": "text/x-python",
   "name": "python",
   "nbconvert_exporter": "python",
   "pygments_lexer": "ipython3",
   "version": "3.8.12"
  },
  "orig_nbformat": 4,
  "vscode": {
   "interpreter": {
    "hash": "bfb5249bd75ccedf95bda6ae7bc29f6f444c4ccc75bbeebbb9f1dcaae85f0a03"
   }
  }
 },
 "nbformat": 4,
 "nbformat_minor": 2
}
