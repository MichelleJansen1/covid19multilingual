{
 "cells": [
  {
   "cell_type": "markdown",
   "metadata": {},
   "source": [
    "## <b>Sentiment analysis</b>\n",
    "<i>Code below is for the sentiment analysis and uses a transformer based on XLM-RoBERTa, which is fine-tuned for twitter sentiment analysis. It is also possible to use a different transformer (<a href=\"https://huggingface.co/models\" target=\"_blank\">huggingface transformers</a>). The transformer is used to vectorize the text into a high-dimensional vector space, so the computer is able to read the data.</i>\n"
   ]
  },
  {
   "cell_type": "code",
   "execution_count": 7,
   "metadata": {},
   "outputs": [],
   "source": [
    "#Import needed libraries\n",
    "    #transformer for using the transformers library\n",
    "    #pipeline for using the sentiment analysis from the transformers library\n",
    "import pandas as pd\n",
    "import transformers\n",
    "from transformers import pipeline\n",
    "\n",
    "#Read data including newly created topics\n",
    "outputgermany = pd.read_csv('Data\\\\topics70_tweets_germany.csv')\n",
    "\n",
    "#Create dataframe\n",
    "tweets_germany = pd.DataFrame(outputgermany)\n",
    "\n",
    "#Define transformer you want to use\n",
    "model_path = \"cardiffnlp/twitter-xlm-roberta-base-sentiment\"\n",
    "\n",
    "#Set model using the sentiment analysis pipeline from huggingface\n",
    "    #model is your transformer, which means it uses your preferred transformer\n",
    "    #tokenizer means that the sentiment analysis will use the preferred transformer to transform the text into embeddings\n",
    "    #return all scores = True, means that all scores for all sentiments will be returned, instead of only for the predicted class\n",
    "sentiment_task = pipeline(\"sentiment-analysis\", model=model_path, tokenizer=model_path) #remove return_all_scores\n",
    "\n",
    "#Perform sentiment analysis and add the sentiment and scores to dataframe\n",
    "tweets_germany = (\n",
    "    tweets_germany\n",
    "    .assign(sentiment = lambda x: x['emoji_clean_text'].apply(lambda s: sentiment_task(s)))\n",
    "    .assign(\n",
    "         label = lambda x: x['sentiment'].apply(lambda s: (s[0]['label'])),\n",
    "         score = lambda x: x['sentiment'].apply(lambda s: (s[0]['score']))\n",
    "    )\n",
    ")\n",
    "\n",
    "#Check if the dataframe has three new columns with data (sentiment, label, and score)\n",
    "tweets_germany\n",
    "\n",
    "#Save dataframe as csv\n",
    "tweets_germany.to_csv('Data\\\\sentimenttopic70_tweets_germany.csv', index = False, header='true')"
   ]
  },
  {
   "cell_type": "markdown",
   "metadata": {},
   "source": [
    "Create histogram of the sentiment distribution"
   ]
  },
  {
   "cell_type": "code",
   "execution_count": 3,
   "metadata": {},
   "outputs": [],
   "source": [
    "import pandas as pd\n",
    "\n",
    "#Read data including newly created topics\n",
    "outputgermany = pd.read_csv('Data\\\\sentimenttopic70_tweets_germany.csv')\n",
    "\n",
    "#Create dataframe\n",
    "tweets_germany = pd.DataFrame(outputgermany)"
   ]
  },
  {
   "cell_type": "code",
   "execution_count": null,
   "metadata": {},
   "outputs": [],
   "source": [
    "import numpy as np\n",
    "import pandas as pd\n",
    "import matplotlib.pyplot as plt\n",
    "import seaborn as sns\n",
    "\n",
    "#Create a distribution plot for the sentiments\n",
    "sns.displot(tweets_germany.label)\n",
    "plt.title(\"Distribution of sentiments\", fontsize=20, color = 'black')\n",
    "plt.show()"
   ]
  },
  {
   "cell_type": "markdown",
   "metadata": {},
   "source": [
    "Create boxplot of the sentiment scores"
   ]
  },
  {
   "cell_type": "code",
   "execution_count": null,
   "metadata": {},
   "outputs": [],
   "source": [
    "import seaborn as sns\n",
    "import matplotlib.pyplot as plt\n",
    "\n",
    "sns.set_theme(style=\"ticks\", palette=\"pastel\")\n",
    "sns.set(rc={'figure.figsize':(11.7,8.27),'font.size':20, 'axes.titlesize':20, 'axes.labelsize': 15.0, 'xtick.labelsize': 15.0})\n",
    "\n",
    "sns.boxplot(x=\"label\",\n",
    "            y=\"score\", palette=[\"r\", \"grey\", \"g\"], order=['Negative', 'Neutral', 'Positive'], orient='v',linewidth=1.5,\n",
    "            data=tweets_germany).set(xlabel='', ylabel='Score', title='Score distribution for each sentiment', ylim=(0.3,1))\n",
    "\n",
    "plt.savefig(\"Figures\\\\boxplotsentiments.png\")\n"
   ]
  },
  {
   "cell_type": "markdown",
   "metadata": {},
   "source": [
    "Boxplot of the sentiments per topic"
   ]
  },
  {
   "cell_type": "code",
   "execution_count": 6,
   "metadata": {},
   "outputs": [],
   "source": [
    "import numpy as np\n",
    "\n",
    "#Add the topic name to the tweets\n",
    "conditions = [\n",
    "    (tweets_germany['Topic'] == -1),\n",
    "    (tweets_germany['Topic'] == 0) | (tweets_germany['Topic'] == 2)| (tweets_germany['Topic'] == 4) | (tweets_germany['Topic'] == 6) | (tweets_germany['Topic'] == 13), \n",
    "    (tweets_germany['Topic'] == 1) | (tweets_germany['Topic'] == 5)| (tweets_germany['Topic'] == 10)  | (tweets_germany['Topic'] == 14) | (tweets_germany['Topic'] == 15), \n",
    "    (tweets_germany['Topic'] == 3) | (tweets_germany['Topic'] == 7)| (tweets_germany['Topic'] == 8) | (tweets_germany['Topic'] == 9) | (tweets_germany['Topic'] == 11)| (tweets_germany['Topic'] == 12)\n",
    "    ]\n",
    "\n",
    "values = ['outlier', 'coronapolicies','prevention','lockdownactivities']\n",
    "tweets_germany['nametopic'] = np.select(conditions, values)\n",
    "\n",
    "#Convert labels into -1,0,1 so it can be used in array\n",
    "conditions = [\n",
    "    (tweets_germany['label'] == 'Negative'),\n",
    "    (tweets_germany['label'] == 'Positive'),\n",
    "    (tweets_germany['label'] == 'Neutral') \n",
    "    ]\n",
    "\n",
    "values = ['-1', '1','0']\n",
    "tweets_germany['numbersentiment'] = np.select(conditions, values)\n",
    "\n",
    "#Convert topicname into numbers\n",
    "conditions = [\n",
    "    (tweets_germany['nametopic'] == 'outlier'),\n",
    "    (tweets_germany['nametopic'] == 'coronapolicies'),\n",
    "    (tweets_germany['nametopic'] == 'lockdownactivities'),\n",
    "    (tweets_germany['nametopic'] == 'prevention')\n",
    "    ]\n",
    "\n",
    "values = ['-1', '1','2','3']\n",
    "tweets_germany['numbertopicname'] = np.select(conditions, values)"
   ]
  },
  {
   "cell_type": "code",
   "execution_count": 8,
   "metadata": {},
   "outputs": [],
   "source": [
    "#Create dataframes of the topics\n",
    "coronapolicies = tweets_germany[tweets_germany['nametopic'] == 'coronapolicies']\n",
    "lockdownactivities = tweets_germany[tweets_germany['nametopic'] == 'lockdownactivities']\n",
    "prevention = tweets_germany[tweets_germany['nametopic'] == 'prevention']"
   ]
  },
  {
   "cell_type": "code",
   "execution_count": 11,
   "metadata": {},
   "outputs": [],
   "source": [
    "import seaborn as sns\n",
    "import matplotlib.pyplot as plt\n",
    "\n",
    "def boxplottopic (data, title, png):\n",
    "    sns.set_theme(style=\"ticks\", palette=\"pastel\")\n",
    "    sns.set(rc={'figure.figsize':(11.7,8.27),'font.size':20, 'axes.titlesize':20, 'axes.labelsize': 15.0, 'xtick.labelsize': 15.0})\n",
    "\n",
    "    sns.boxplot(x=\"label\",\n",
    "        y=\"score\", palette=[\"r\", \"grey\", \"g\"], order=['Negative', 'Neutral', 'Positive'], orient='v',linewidth=1.5,\n",
    "        data=data).set(xlabel='', ylabel='Score', title=title, ylim=(0.3,1))\n",
    "\n",
    "    plt.savefig(png)"
   ]
  },
  {
   "cell_type": "code",
   "execution_count": null,
   "metadata": {},
   "outputs": [],
   "source": [
    "boxplottopic(coronapolicies, 'Corona and policies: score distribution for each sentiment', 'Figures\\\\boxplotcoronapolicies.png')\n",
    "boxplottopic(lockdownactivities, 'Lockdown activities: score distribution for each sentiment', 'Figures\\\\boxplotlockdownactivities.png')\n",
    "boxplottopic(prevention, 'Prevention: score distribution for each sentiment', 'Figures\\\\boxplotprevention.png')"
   ]
  },
  {
   "cell_type": "markdown",
   "metadata": {},
   "source": [
    "Create graphs containing the distribution of the scores of each sentiment per topic"
   ]
  },
  {
   "cell_type": "code",
   "execution_count": 16,
   "metadata": {},
   "outputs": [],
   "source": [
    "#Create classes for the sentiment scores\n",
    "conditions = [\n",
    "    (tweets_germany['score'] < 0.2),\n",
    "    (tweets_germany['score'] > 0.2) & (tweets_germany['score'] <0.4 ),\n",
    "    (tweets_germany['score'] > 0.4) & (tweets_germany['score'] <0.6 ),\n",
    "    (tweets_germany['score'] > 0.6) & (tweets_germany['score'] <0.8 ),\n",
    "    (tweets_germany['score'] > 0.8) & (tweets_germany['score'] <1 ),\n",
    "    ]\n",
    "\n",
    "values = ['0-0.2', '0.2-0.4', '0.4-0.6', '0.6-0.8', '0.8-1']\n",
    "tweets_germany['class_score'] = np.select(conditions, values)"
   ]
  },
  {
   "cell_type": "code",
   "execution_count": 17,
   "metadata": {},
   "outputs": [],
   "source": [
    "#Create dataframes of the topics again to include the class_score column\n",
    "coronapolicies = tweets_germany[tweets_germany['nametopic'] == 'coronapolicies']\n",
    "lockdownactivities = tweets_germany[tweets_germany['nametopic'] == 'lockdownactivities']\n",
    "prevention = tweets_germany[tweets_germany['nametopic'] == 'prevention']"
   ]
  },
  {
   "cell_type": "code",
   "execution_count": 18,
   "metadata": {},
   "outputs": [],
   "source": [
    "#Sort values so that they will appear right in the figures\n",
    "coronapolicies = coronapolicies.sort_values('class_score')\n",
    "lockdownactivities=lockdownactivities.sort_values('class_score')\n",
    "prevention= prevention.sort_values('class_score')"
   ]
  },
  {
   "cell_type": "code",
   "execution_count": 19,
   "metadata": {},
   "outputs": [],
   "source": [
    "import numpy as np\n",
    "import pandas as pd\n",
    "import matplotlib.pyplot as plt\n",
    "import seaborn as sns\n",
    "\n",
    "def sentimentscore (data, title):\n",
    "    sns.set(font_scale=1.2)\n",
    "    ax = sns.displot(data, x='class_score', col='label', height=4, col_order=[\"Positive\", \"Neutral\", \"Negative\"],  stat='percent', common_norm=False,)\n",
    "    plt.subplots_adjust(top=1)\n",
    "    ax.set(xlabel='Sentiment score', ylabel='Percentage')\n",
    "    plt.ylim(0, 60)\n",
    "    plt.suptitle(title, fontsize=20, y=1.15, color = 'black')\n",
    "    plt.show()"
   ]
  },
  {
   "cell_type": "code",
   "execution_count": null,
   "metadata": {},
   "outputs": [],
   "source": [
    "sentimentscore(coronapolicies, 'Corona and policies: Distribution of sentiment scores')\n",
    "sentimentscore(lockdownactivities, 'Lockdown activities: Distribution of sentiment scores')\n",
    "sentimentscore(prevention, 'Prevention: Distribution of sentiment scores')"
   ]
  },
  {
   "cell_type": "markdown",
   "metadata": {},
   "source": [
    "Create scattertext for positive and negative sentiments"
   ]
  },
  {
   "cell_type": "code",
   "execution_count": null,
   "metadata": {},
   "outputs": [],
   "source": [
    "import scattertext as st\n",
    "\n",
    "#Create df for positive and negative tweets\n",
    "tweetsposneg = tweets_germany[(tweets_germany['label'] == 'Positive') | (tweets_germany['label'] == 'Negative')]\n",
    "\n",
    "#Parse text to extract the words\n",
    "tweetsposneg['parsed'] = tweetsposneg.text_clean.apply(st.whitespace_nlp_with_sentences)\n",
    "\n",
    "#Create corpus\n",
    "corpus = st.CorpusFromParsedDocuments(\n",
    "\ttweetsposneg,\n",
    "\tparsed_col = 'parsed',\n",
    "\tcategory_col='label',\n",
    ").build().get_unigram_corpus().compact(st.AssociationCompactor(2000))\n",
    "\n",
    "#Create html link for figure\n",
    "html = st.produce_scattertext_explorer(\n",
    "    corpus,\n",
    "    category='Positive', category_name='Positive', not_category_name='Negative',\n",
    "    minimum_term_frequency=0, pmi_threshold_coefficient=0,\n",
    "    width_in_pixels=1000, \n",
    "    transform=st.Scalers.dense_rank\n",
    ")\n",
    "open(\"sentimentwords.html\", 'wb').write(html.encode('utf-8'))"
   ]
  },
  {
   "cell_type": "markdown",
   "metadata": {},
   "source": [
    "Create map containing the points of each tweet displaying the score of that tweet"
   ]
  },
  {
   "cell_type": "code",
   "execution_count": null,
   "metadata": {},
   "outputs": [],
   "source": [
    "import geoplot as gplt\n",
    "import geopandas as gpd\n",
    "import pandas as pd\n",
    "import numpy as np\n",
    "import matplotlib.pyplot as plt\n",
    "import geoplot.crs as gcrs\n",
    "import pyproj\n",
    "plt.style.use('seaborn')\n",
    "\n",
    "#Create geodataframe of the tweets\n",
    "geotweets = gpd.GeoDataFrame(tweets_germany, geometry=gpd.points_from_xy(tweets_germany.x, tweets_germany.y))\n",
    "\n",
    "geotweets = geotweets.set_crs('EPSG:4326')\n",
    "\n",
    "#Create dataframe of the map of Germany\n",
    "%matplotlib inline\n",
    "bundeslander = gpd.read_file(r'Data\\bundeslander.shp')\n",
    "\n",
    "#set crs to same projection\n",
    "bundeslander = bundeslander.to_crs(epsg=4326)\n",
    "\n",
    "geom_germany = bundeslander\n",
    "geom_germany['geometry'] = geom_germany.buffer(0)\n",
    "\n",
    "#Create dataframes of the negative and positive scores\n",
    "negative = geotweets[geotweets['label'] == 'Negative']\n",
    "\n",
    "negative_score = negative[['score', 'geometry']]\n",
    "\n",
    "positive = geotweets[geotweets['label'] == 'Positive']\n",
    "\n",
    "positive_score = positive[['score', 'geometry']]\n",
    "\n",
    "#Create maps\n",
    "proj = gcrs.Mercator()\n",
    "\n",
    "fig = plt.figure(figsize=(15, 10), )\n",
    "ax1 = plt.subplot(121, projection=proj,  facecolor='white')\n",
    "ax2 = plt.subplot(122, projection=proj, facecolor='white')\n",
    "\n",
    "gplt.pointplot(negative_score,  hue='score', cmap='Blues',legend=True, legend_kwargs={'orientation':'horizontal'}, ax=ax1)\n",
    "gplt.polyplot(geom_germany, ax=ax1, facecolor='white')\n",
    "ax1.set_title('Score distribution of the negative tweets', fontsize=20)\n",
    "\n",
    "gplt.pointplot(positive_score,  hue='score', cmap='Blues',legend=True, legend_kwargs={'orientation':'horizontal'}, ax=ax2)\n",
    "gplt.polyplot(geom_germany, ax=ax2, facecolor='white')\n",
    "ax2.set_title('Score distribution of the positive tweets', fontsize=20)"
   ]
  }
 ],
 "metadata": {
  "kernelspec": {
   "display_name": "Python 3.8.12",
   "language": "python",
   "name": "python3"
  },
  "language_info": {
   "codemirror_mode": {
    "name": "ipython",
    "version": 3
   },
   "file_extension": ".py",
   "mimetype": "text/x-python",
   "name": "python",
   "nbconvert_exporter": "python",
   "pygments_lexer": "ipython3",
   "version": "3.8.12"
  },
  "orig_nbformat": 4,
  "vscode": {
   "interpreter": {
    "hash": "f1638be7ebbf05af5870fdc927cbfd7e5796b8b306115e1f4a5e53bb99b67796"
   }
  }
 },
 "nbformat": 4,
 "nbformat_minor": 2
}
