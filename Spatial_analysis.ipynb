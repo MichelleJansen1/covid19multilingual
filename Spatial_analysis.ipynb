{
 "cells": [
  {
   "cell_type": "markdown",
   "metadata": {},
   "source": [
    "## <b>Spatial analysis</b>\n",
    "<i>This script can be used to analyse the created topics and calculated sentiments over space. </i>\n"
   ]
  },
  {
   "cell_type": "code",
   "execution_count": 3,
   "metadata": {},
   "outputs": [],
   "source": [
    "#Import needed libraries\n",
    "import pandas as pd\n",
    "import numpy as np\n",
    "import geopandas as gpd\n",
    "import matplotlib.pyplot as plt\n",
    "import sys\n",
    "sys.path.append(r'C:\\Users\\mies1\\PycharmProjects\\spatialanalysis2\\src')\n",
    "from mylibpysal import libpysal\n",
    "import pyproj\n",
    "import esda\n",
    "plt.style.use('seaborn')\n",
    "\n",
    "#Read the data with pandas\n",
    "outputgermany = pd.read_csv('Data\\\\sentimenttopic70_tweets_germany.csv')\n",
    "tweets_germany = pd.DataFrame(outputgermany)\n",
    "\n",
    "#Convert DateTime column to two columns containing the date and the time\n",
    "tweets_germany[['Date', 'Time']] = tweets_germany['t_datetime_goed'].str.split(expand=True)\n",
    "\n",
    "#Add topic names again\n",
    "conditions = [\n",
    "    (tweets_germany['Topic'] == -1),\n",
    "    (tweets_germany['Topic'] == 0) | (tweets_germany['Topic'] == 2)| (tweets_germany['Topic'] == 4) | (tweets_germany['Topic'] == 6) | (tweets_germany['Topic'] == 13), \n",
    "    (tweets_germany['Topic'] == 1) | (tweets_germany['Topic'] == 5)| (tweets_germany['Topic'] == 10)  | (tweets_germany['Topic'] == 14) | (tweets_germany['Topic'] == 15), \n",
    "    (tweets_germany['Topic'] == 3) | (tweets_germany['Topic'] == 7)| (tweets_germany['Topic'] == 8) | (tweets_germany['Topic'] == 9) | (tweets_germany['Topic'] == 11)| (tweets_germany['Topic'] == 12)\n",
    "    ]\n",
    "\n",
    "values = ['outlier', 'coronapolicies','prevention','lockdownactivities']\n",
    "tweets_germany['nametopic'] = np.select(conditions, values)\n",
    "\n",
    "#Convert labels into -1,0,1 so it can be used in array\n",
    "conditions = [\n",
    "    (tweets_germany['label'] == 'Negative'),\n",
    "    (tweets_germany['label'] == 'Positive'),\n",
    "    (tweets_germany['label'] == 'Neutral') \n",
    "    ]\n",
    "\n",
    "values = ['-1', '1','0']\n",
    "tweets_germany['numbersentiment'] = np.select(conditions, values)\n",
    "\n",
    "#Convert topicname into numbers\n",
    "conditions = [\n",
    "    (tweets_germany['nametopic'] == 'outlier'),\n",
    "    (tweets_germany['nametopic'] == 'coronapolicies'),\n",
    "    (tweets_germany['nametopic'] == 'lockdownactivities'),\n",
    "    (tweets_germany['nametopic'] == 'prevention')\n",
    "    ]\n",
    "\n",
    "values = ['-1', '1','2','3']\n",
    "tweets_germany['numbertopicname'] = np.select(conditions, values)\n",
    "\n",
    "#Create geodataframe\n",
    "geotweets = gpd.GeoDataFrame(tweets_germany, geometry=gpd.points_from_xy(tweets_germany.x, tweets_germany.y))\n",
    "geotweets = geotweets.set_crs('EPSG:4326')\n",
    "\n",
    "#Create dataframe with map of Germany\n",
    "bundeslander = gpd.read_file(r'Data\\germany.shp')\n",
    "bundeslander = bundeslander.to_crs(epsg=4326)\n",
    "geom_germany = bundeslander\n",
    "geom_germany['geometry'] = geom_germany.buffer(0)"
   ]
  },
  {
   "cell_type": "markdown",
   "metadata": {},
   "source": [
    "Hotspot analysis"
   ]
  },
  {
   "cell_type": "code",
   "execution_count": 4,
   "metadata": {},
   "outputs": [],
   "source": [
    "#Create dataframes with labels\n",
    "topics = geotweets['nametopic'].unique().tolist()\n",
    "labels = geotweets['label'].unique().tolist()\n",
    "topics.remove('outlier')\n",
    "\n",
    "#Set fontsize of legend\n",
    "plt.rc('legend',fontsize=15.5)\n",
    "plt.style.use('seaborn')"
   ]
  },
  {
   "cell_type": "code",
   "execution_count": 1,
   "metadata": {},
   "outputs": [],
   "source": [
    "def hotspot (sentiment, topic, title, pngname):\n",
    "    dbf = geotweets[(geotweets['label'] == sentiment) & (geotweets['nametopic'] == topic)]\n",
    "    score = dbf['score']\n",
    "\n",
    "    knn = libpysal.weights.KNN.from_dataframe(dbf,geom_col='geometry',k=20)\n",
    "    knn.transform = 'r'\n",
    "\n",
    "    score_lag = libpysal.weights.lag_spatial(knn, score)\n",
    "\n",
    "    li = esda.moran.Moran_Local(score, knn)\n",
    "    (li.p_sim < 0.05).sum()\n",
    "    sig = li.p_sim < 0.05\n",
    "    hotspot = sig * li.q==1\n",
    "    coldspot = sig * li.q==2\n",
    "\n",
    "    spots = ['Not significant', 'Hotspot']\n",
    "    labels = [spots[i] for i in hotspot*1]\n",
    "\n",
    "    from matplotlib import colors\n",
    "    hmap = colors.ListedColormap(['red', 'lightgrey'])\n",
    "    f, ax = plt.subplots(1, figsize=(15, 15))\n",
    "    bundeslander.plot(ax=ax, column='geometry',categorical=True, edgecolor='black', color='white')\n",
    "    dbf.assign(cl=labels).plot(column='cl', categorical=True, \\\n",
    "        k=2, cmap=hmap, linewidth=0.1, ax=ax, \\\n",
    "        edgecolor='white', legend=True, )\n",
    "    ax.set_axis_off()\n",
    "    plt.title(title)\n",
    "    plt.savefig(pngname)"
   ]
  },
  {
   "cell_type": "code",
   "execution_count": null,
   "metadata": {},
   "outputs": [],
   "source": [
    "for label in labels:\n",
    "    for topic in topics:\n",
    "        df = geotweets[(geotweets['label'] == label) & (geotweets['nametopic'] == topic)]\n",
    "        if topic == \"lockdownactivities\":\n",
    "            topicsname = 'Lockdown activities'\n",
    "        elif topic == 'coronapolicies':\n",
    "            topicsname = 'Corona and policies'\n",
    "        elif topic == 'prevention':\n",
    "            topicsname = 'Prevention'\n",
    "        else:\n",
    "            print (\"topic name not found\")\n",
    "        titlefigure = topicsname + ': hotspots of the score of ' '\\n'+ label.lower() + ' tweets'\n",
    "        filename = 'Figures\\hotspot_' + topic + '_' + label + '.png'\n",
    "        hotspot(label, topic, titlefigure, filename)"
   ]
  },
  {
   "cell_type": "code",
   "execution_count": 11,
   "metadata": {},
   "outputs": [],
   "source": [
    "def coldspot (sentiment, topic, title, pngname):\n",
    "    dbf = geotweets[(geotweets['label'] == sentiment) & (geotweets['nametopic'] == topic)]\n",
    "    score = dbf['score']\n",
    "\n",
    "    knn = libpysal.weights.KNN.from_dataframe(dbf,geom_col='geometry',k=20)\n",
    "    knn.transform = 'r'\n",
    "\n",
    "    score_lag = libpysal.weights.lag_spatial(knn, score)\n",
    "\n",
    "    li = esda.moran.Moran_Local(score, knn)\n",
    "    (li.p_sim < 0.05).sum()\n",
    "    sig = li.p_sim < 0.05\n",
    "    hotspot = sig * li.q==1\n",
    "    coldspot = sig * li.q==2\n",
    "\n",
    "    spots = ['Not significant', 'Coldspot']\n",
    "    labels = [spots[i] for i in hotspot*1]\n",
    "\n",
    "    from matplotlib import colors\n",
    "    hmap = colors.ListedColormap(['blue', 'lightgrey'])\n",
    "    f, ax = plt.subplots(1, figsize=(15, 15))\n",
    "    bundeslander.plot(ax=ax, column='geometry',categorical=True, edgecolor='black', color='white')\n",
    "    dbf.assign(cl=labels).plot(column='cl', categorical=True, \\\n",
    "        k=2, cmap=hmap, linewidth=0.1, ax=ax, \\\n",
    "        edgecolor='white', legend=True, )\n",
    "    ax.set_axis_off()\n",
    "    plt.title(title)\n",
    "    plt.savefig(pngname)"
   ]
  },
  {
   "cell_type": "code",
   "execution_count": null,
   "metadata": {},
   "outputs": [],
   "source": [
    "for label in labels:\n",
    "    for topic in topics:\n",
    "        df = geotweets[(geotweets['label'] == label) & (geotweets['nametopic'] == topic)]\n",
    "        if topic == \"lockdownactivities\":\n",
    "            topicsname = 'Lockdown activities'\n",
    "        elif topic == 'coronapolicies':\n",
    "            topicsname = 'Corona and policies'\n",
    "        elif topic == 'prevention':\n",
    "            topicsname = 'Prevention'\n",
    "        elif topic == 'nostalgiaprecovid':\n",
    "            topicsname = 'Nostalgia for pre-covid'\n",
    "        else:\n",
    "            print (\"topic name not found\")\n",
    "        titlefigure = topicsname + ': coldspots of the score of ' '\\n'+ label.lower() + ' tweets'\n",
    "        filename = 'Figures\\coldspot_' + topic + '_' + label + '.png'\n",
    "        coldspot(label, topic, titlefigure, filename)"
   ]
  },
  {
   "cell_type": "code",
   "execution_count": 71,
   "metadata": {},
   "outputs": [],
   "source": [
    "def hotcoldspot (sentiment, topic, title, pngname):\n",
    "    dbf = geotweets[(geotweets['label'] == sentiment) & (geotweets['nametopic'] == topic)]\n",
    "    score = dbf['score']\n",
    "\n",
    "    knn = libpysal.weights.KNN.from_dataframe(dbf,geom_col='geometry',k=20)\n",
    "    knn.transform = 'r'\n",
    "\n",
    "    score_lag = libpysal.weights.lag_spatial(knn, score)\n",
    "\n",
    "    li = esda.moran.Moran_Local(score, knn)\n",
    "    (li.p_sim < 0.05).sum()\n",
    "    sig = 1 * (li.p_sim < 0.05)\n",
    "    hotspot = 1 * (sig * li.q==1)\n",
    "    coldspot = 2 * (sig * li.q==2)\n",
    "    spots = hotspot + coldspot \n",
    "    \n",
    "    spot_labels = [ '0 not significant', '1 hot spot', '2 cold spot']\n",
    "    labels = [spot_labels[i] for i in spots]\n",
    "\n",
    "    from matplotlib import colors\n",
    "    hmap = colors.ListedColormap(['lightgrey','red','blue'])\n",
    "    f, ax = plt.subplots(1, figsize=(15, 15))\n",
    "    bundeslander.plot(ax=ax, column='geometry',categorical=True, edgecolor='black', color='white')\n",
    "    dbf.assign(cl=labels).plot(column='cl', categorical=True, \\\n",
    "        k=2, cmap=hmap, linewidth=0.1, ax=ax, \\\n",
    "        edgecolor='white', legend=True,)\n",
    "    ax.set_axis_off()\n",
    "    plt.title(title, fontsize=20)\n",
    "    plt.savefig(pngname)"
   ]
  },
  {
   "cell_type": "code",
   "execution_count": null,
   "metadata": {},
   "outputs": [],
   "source": [
    "for label in labels:\n",
    "    for topic in topics:\n",
    "        df = geotweets[(geotweets['label'] == label) & (geotweets['nametopic'] == topic)]\n",
    "        if topic == \"lockdownactivities\":\n",
    "            topicsname = 'Lockdown activities'\n",
    "        elif topic == 'coronapolicies':\n",
    "            topicsname = 'Corona and policies'\n",
    "        elif topic == 'prevention':\n",
    "            topicsname = 'Prevention'\n",
    "        elif topic == 'nostalgiaprecovid':\n",
    "            topicsname = 'Nostalgia for pre-covid'\n",
    "        else:\n",
    "            print (\"topic name not found\")\n",
    "        titlefigure = topicsname + ': hot- and cold spots of the score of ' '\\n' + label.lower() + ' tweets'\n",
    "        filename = 'Figures\\hotcoldspot_' + topic + '_' + label + '2.png'\n",
    "        hotcoldspot(label, topic, titlefigure, filename)"
   ]
  },
  {
   "cell_type": "markdown",
   "metadata": {},
   "source": [
    "Local spatial autocorrelation"
   ]
  },
  {
   "cell_type": "code",
   "execution_count": 21,
   "metadata": {},
   "outputs": [],
   "source": [
    "#Import libraries\n",
    "import esda\n",
    "import pandas as pd\n",
    "import geopandas as gpd\n",
    "from geopandas import GeoDataFrame\n",
    "from mylibpysal import libpysal\n",
    "import numpy as np\n",
    "import matplotlib.pyplot as plt\n",
    "from shapely.geometry import Point\n",
    "%matplotlib inline"
   ]
  },
  {
   "cell_type": "code",
   "execution_count": 22,
   "metadata": {},
   "outputs": [],
   "source": [
    "def moran_scatterplot (sentiment, topic, titlefigure, xlabel, pngname):\n",
    "    dbf = geotweets[(geotweets['label'] == sentiment) & (geotweets['nametopic'] == topic)]\n",
    "    score = dbf['score']\n",
    "\n",
    "    knn = libpysal.weights.KNN.from_dataframe(dbf,geom_col='geometry',k=20)\n",
    "    knn.transform = 'r'\n",
    "\n",
    "    score_lag = libpysal.weights.lag_spatial(knn, score)\n",
    "\n",
    "    b, a = np.polyfit(score, score_lag, 1)\n",
    "    f, ax = plt.subplots(1, figsize=(9, 9))\n",
    "\n",
    "    plt.plot(score, score_lag, '.', color='darkslategrey')\n",
    "\n",
    "    # dashed vert at mean of the \n",
    "    plt.vlines(score.mean(), score_lag.min(), score_lag.max(), linestyle='--')\n",
    "    # dashed horizontal at mean of lagged  \n",
    "    plt.hlines(score_lag.mean(), score.min(), score.max(), linestyle='--')\n",
    "\n",
    "    # red line of best fit using global I as slope\n",
    "    plt.plot(score, a + b*score, 'r')\n",
    "    plt.title(titlefigure, fontsize=20)\n",
    "    plt.ylabel('Spatial lag')\n",
    "    plt.xlabel(xlabel)\n",
    "    plt.savefig(pngname)\n",
    "    plt.show()"
   ]
  },
  {
   "cell_type": "code",
   "execution_count": null,
   "metadata": {},
   "outputs": [],
   "source": [
    "#Create moran scatterplot for each label per topic\n",
    "for label in labels:\n",
    "    for topic in topics:\n",
    "        df = geotweets[(geotweets['label'] == label) & (geotweets['nametopic'] == topic)]\n",
    "        if topic == \"lockdownactivities\":\n",
    "            topicsname = 'Lockdown activities'\n",
    "        elif topic == 'coronapolicies':\n",
    "            topicsname = 'Corona and policies'\n",
    "        elif topic == 'prevention':\n",
    "            topicsname = 'Prevention'\n",
    "        elif topic == 'nostalgiaprecovid':\n",
    "            topicsname = 'Nostalgia for pre-covid'\n",
    "        else:\n",
    "            print (\"topic name not found\")\n",
    "        titlefigure = topicsname + ': moran scatterplot of the score of the ' + label.lower() +' tweets'\n",
    "        xlabel = 'Score of ' + label.lower() + ' sentiment'\n",
    "        filename = 'Figures\\scatterplot' + topic + '_' + label + '.png'\n",
    "        moran_scatterplot(label, topic, titlefigure, xlabel, filename)"
   ]
  },
  {
   "cell_type": "markdown",
   "metadata": {},
   "source": [
    "Moran's I scores per topic and sentiment"
   ]
  },
  {
   "cell_type": "code",
   "execution_count": 24,
   "metadata": {},
   "outputs": [],
   "source": [
    "def moranscore (sentiment, topic):\n",
    "    dbf = geotweets[(geotweets['label'] == sentiment) & (geotweets['nametopic'] == topic)]\n",
    "    score = dbf['score']\n",
    "\n",
    "    w = libpysal.weights.KNN.from_dataframe(dbf,geom_col='geometry',k=20)\n",
    "    w.transform = 'r'\n",
    "\n",
    "    mi = esda.Moran(score, w)\n",
    "    print(sentiment, topic, mi.I, mi.z_sim, mi.p_sim)"
   ]
  },
  {
   "cell_type": "code",
   "execution_count": null,
   "metadata": {},
   "outputs": [],
   "source": [
    "for label in labels:\n",
    "    for topic in topics:\n",
    "        df = geotweets[(geotweets['label'] == label) & (geotweets['nametopic'] == topic)]\n",
    "        moranscore(label, topic)"
   ]
  },
  {
   "cell_type": "markdown",
   "metadata": {},
   "source": [
    "Moran's I scores per state and sentiment"
   ]
  },
  {
   "cell_type": "code",
   "execution_count": 33,
   "metadata": {},
   "outputs": [],
   "source": [
    "def moranscore_state_sentiment (state, sentiment, kwaarde):\n",
    "    data = geotweets[geotweets['State'] == state]\n",
    "    dbf = data[(data['label'] == sentiment)]\n",
    "    score = dbf['score']\n",
    "\n",
    "    w = libpysal.weights.KNN.from_dataframe(dbf,geom_col='geometry',k=kwaarde)\n",
    "    w.transform = 'r'\n",
    "\n",
    "    mi = esda.Moran(score, w)\n",
    "    print(state, label, mi.I, mi.z_sim, mi.p_sim)"
   ]
  },
  {
   "cell_type": "code",
   "execution_count": null,
   "metadata": {},
   "outputs": [],
   "source": [
    "states = geotweets['State'].unique().tolist()\n",
    "\n",
    "for state in states:\n",
    "    for label in labels:\n",
    "        df = geotweets[(geotweets['State'] == state) & (geotweets['label'] == label)]\n",
    "        if len(df) > 10:\n",
    "            if len(df) <= 20:\n",
    "                k = 10\n",
    "            else:\n",
    "                k = 20\n",
    "            moranscore_state_sentiment(state, label, k)\n",
    "        else:\n",
    "            print(state + label + 'Dataset has 10 or less rows')"
   ]
  },
  {
   "cell_type": "markdown",
   "metadata": {},
   "source": [
    "Kernel density estimation"
   ]
  },
  {
   "cell_type": "code",
   "execution_count": 35,
   "metadata": {},
   "outputs": [],
   "source": [
    "#Import libraries\n",
    "import geoplot as gplt\n",
    "import geoplot.crs as gcrs\n",
    "import geopandas as gpd\n",
    "import matplotlib.pyplot as plt"
   ]
  },
  {
   "cell_type": "code",
   "execution_count": null,
   "metadata": {},
   "outputs": [],
   "source": [
    "#Create KDE of positive and negative tweets\n",
    "proj = gcrs.Mercator()\n",
    "\n",
    "fig = plt.figure(figsize=(15, 10))\n",
    "ax1 = plt.subplot(121, projection=proj)\n",
    "ax2 = plt.subplot(122, projection=proj)\n",
    "\n",
    "gplt.kdeplot(geotweets[geotweets['label']=='Positive'], shade=True, cmap='Reds',clip=geom_germany.geometry,ax=ax1, )\n",
    "gplt.polyplot(geom_germany,ax=ax1, facecolor='white')\n",
    "ax1.set_title(\"Positive tweets\", fontsize=20)\n",
    "\n",
    "gplt.kdeplot(geotweets[geotweets['label']=='Negative'], shade=True, cmap='Reds',clip=geom_germany.geometry,ax=ax2)\n",
    "gplt.polyplot(geom_germany,ax=ax2, facecolor='white')\n",
    "ax2.set_title(\"Negative tweets\", fontsize=20)\n",
    "\n",
    "plt.savefig(\"Figures\\positivenegativeKDE.png\")"
   ]
  },
  {
   "cell_type": "code",
   "execution_count": null,
   "metadata": {},
   "outputs": [],
   "source": [
    "#Create KDE of the topics\n",
    "proj = gcrs.Mercator()\n",
    "\n",
    "fig = plt.figure(figsize=(15, 10))\n",
    "ax1 = plt.subplot(121, projection=proj)\n",
    "ax2 = plt.subplot(122, projection=proj)\n",
    "\n",
    "gplt.kdeplot(geotweets[geotweets['numbertopicname']=='1'], shade=True, cmap='Reds',clip=geom_germany.geometry,ax=ax1, )\n",
    "gplt.polyplot(geom_germany,ax=ax1, facecolor='white')\n",
    "ax1.set_title(\"Corona and policies\", fontsize=20)\n",
    "\n",
    "gplt.kdeplot(geotweets[geotweets['numbertopicname']=='2'], shade=True, cmap='Reds',clip=geom_germany.geometry,ax=ax2)\n",
    "gplt.polyplot(geom_germany,ax=ax2, facecolor='white')\n",
    "ax2.set_title(\"Lockdown activities\", fontsize=20)\n",
    "\n",
    "plt.savefig(\"Figures\\coronapolicieslockdownactivitiesKDE.png\")"
   ]
  },
  {
   "cell_type": "code",
   "execution_count": null,
   "metadata": {},
   "outputs": [],
   "source": [
    "proj = gcrs.Mercator()\n",
    "\n",
    "fig = plt.figure(figsize=(15, 10))\n",
    "ax1 = plt.subplot(121, projection=proj)\n",
    "ax2 = plt.subplot(122, projection=proj)\n",
    "\n",
    "gplt.kdeplot(geotweets[geotweets['numbertopicname']=='3'], shade=True, cmap='Reds',clip=geom_germany.geometry,ax=ax1, )\n",
    "gplt.polyplot(geom_germany,ax=ax1, facecolor='white')\n",
    "ax1.set_title(\"Prevention\", fontsize=20)\n",
    "\n",
    "plt.savefig(\"Figures\\prevention.png\")"
   ]
  },
  {
   "cell_type": "markdown",
   "metadata": {},
   "source": [
    "KDE for each state"
   ]
  },
  {
   "cell_type": "code",
   "execution_count": 65,
   "metadata": {},
   "outputs": [],
   "source": [
    "import matplotlib\n",
    "\n",
    "matplotlib.rcParams.update(matplotlib.rcParamsDefault)"
   ]
  },
  {
   "cell_type": "code",
   "execution_count": 66,
   "metadata": {},
   "outputs": [],
   "source": [
    "#Create KDE of the positive and negative tweets for each state\n",
    "def sentimentKDE (state, png):\n",
    "    proj = gcrs.Mercator()\n",
    "\n",
    "    df = geotweets[geotweets['State'] == state]\n",
    "\n",
    "    fig = plt.figure(figsize=(15, 10))\n",
    "    ax1 = plt.subplot(121, projection=proj)\n",
    "    ax2 = plt.subplot(122, projection=proj) \n",
    "\n",
    "    gplt.kdeplot(df[df['label']=='Positive'], shade=True, cmap='Reds',clip=geom_germany[geom_germany['GEN'] == state].geometry,ax=ax1,)\n",
    "    gplt.polyplot(geom_germany[geom_germany['GEN'] == state].geometry,ax=ax1,  facecolor='white')\n",
    "    ax1.set_title(\"Positive tweets\", fontsize=20)\n",
    "\n",
    "    gplt.kdeplot(df[df['label']=='Negative'], shade=True, cmap='Reds',clip=geom_germany[geom_germany['GEN'] == state].geometry,ax=ax2)\n",
    "    gplt.polyplot(geom_germany[geom_germany['GEN'] == state].geometry,ax=ax2, facecolor='white',)\n",
    "    ax2.set_title(\"Negative tweets\", fontsize=20)\n",
    "\n",
    "    plt.savefig(png)"
   ]
  },
  {
   "cell_type": "code",
   "execution_count": null,
   "metadata": {},
   "outputs": [],
   "source": [
    "states = geotweets['State'].unique().tolist()\n",
    "\n",
    "for state in states: \n",
    "    pngname = 'Figures\\\\' + state + 'sentimentKDE2.png'\n",
    "    sentimentKDE(state, pngname)"
   ]
  },
  {
   "cell_type": "code",
   "execution_count": 68,
   "metadata": {},
   "outputs": [],
   "source": [
    "#Create KDE for the topics for each state\n",
    "\n",
    "def policieslockdownKDE (state, png):\n",
    "    proj = gcrs.Mercator()\n",
    "\n",
    "    df = geotweets[geotweets['State'] == state]\n",
    "\n",
    "    fig = plt.figure(figsize=(15, 10))\n",
    "    ax1 = plt.subplot(121, projection=proj)\n",
    "    ax2 = plt.subplot(122, projection=proj)\n",
    "\n",
    "    gplt.kdeplot(df[df['numbertopicname']=='1'], shade=True, cmap='Reds',clip=geom_germany[geom_germany['GEN'] == state].geometry,ax=ax1, )\n",
    "    gplt.polyplot(geom_germany[geom_germany['GEN'] == state],ax=ax1, facecolor='white')\n",
    "    ax1.set_title(\"Corona and policies\", fontsize=20)\n",
    "\n",
    "    gplt.kdeplot(df[df['numbertopicname']=='2'], shade=True, cmap='Reds',clip=geom_germany[geom_germany['GEN'] == state].geometry,ax=ax2)\n",
    "    gplt.polyplot(geom_germany[geom_germany['GEN'] == state],ax=ax2, facecolor='white')\n",
    "    ax2.set_title(\"Lockdown activities\", fontsize=20)\n",
    "\n",
    "    plt.savefig(png)\n",
    "\n",
    "def preventionKDE (state, png):\n",
    "    proj = gcrs.Mercator()\n",
    "\n",
    "    df = geotweets[geotweets['State'] == state]\n",
    "\n",
    "    fig = plt.figure(figsize=(15, 10))\n",
    "    ax1 = plt.subplot(121, projection=proj)\n",
    "    \n",
    "    gplt.kdeplot(df[df['numbertopicname']=='3'], shade=True, cmap='Reds',clip=geom_germany[geom_germany['GEN'] == state].geometry,ax=ax1, )\n",
    "    gplt.polyplot(geom_germany[geom_germany['GEN'] == state],ax=ax1, facecolor='white')\n",
    "    ax1.set_title(\"Prevention\", fontsize=20)\n",
    "\n",
    "    plt.savefig(png)"
   ]
  },
  {
   "cell_type": "code",
   "execution_count": null,
   "metadata": {},
   "outputs": [],
   "source": [
    "for state in states: \n",
    "    pngname = \"Figures\\\\\" + state + 'policieslockdownKDE2.png'\n",
    "    policieslockdownKDE(state, pngname)\n",
    "\n",
    "for state in states: \n",
    "    pngname = \"Figures\\\\\" + state + 'preventionKDE2.png'\n",
    "    preventionKDE(state, pngname)"
   ]
  }
 ],
 "metadata": {
  "kernelspec": {
   "display_name": "Python 3.8.12 ('spatialanalysis2')",
   "language": "python",
   "name": "python3"
  },
  "language_info": {
   "codemirror_mode": {
    "name": "ipython",
    "version": 3
   },
   "file_extension": ".py",
   "mimetype": "text/x-python",
   "name": "python",
   "nbconvert_exporter": "python",
   "pygments_lexer": "ipython3",
   "version": "3.8.12"
  },
  "orig_nbformat": 4,
  "vscode": {
   "interpreter": {
    "hash": "bfb5249bd75ccedf95bda6ae7bc29f6f444c4ccc75bbeebbb9f1dcaae85f0a03"
   }
  }
 },
 "nbformat": 4,
 "nbformat_minor": 2
}
