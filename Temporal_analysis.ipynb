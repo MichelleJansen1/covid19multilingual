{
 "cells": [
  {
   "cell_type": "markdown",
   "metadata": {},
   "source": [
    "## <b>Temporal analysis</b>\n",
    "<i>This script can be used to analyse the created topics and calculated sentiments over time. </i>\n"
   ]
  },
  {
   "cell_type": "code",
   "execution_count": 42,
   "metadata": {},
   "outputs": [],
   "source": [
    "#Import needed libraries\n",
    "import pandas as pd\n",
    "\n",
    "#Read the data with pandas\n",
    "outputgermany = pd.read_csv('Data\\\\sentimenttopic70_tweets_germany.csv')\n",
    "tweets_germany = pd.DataFrame(outputgermany)\n",
    "\n",
    "#Convert DateTime column to two columns containing the date and the time\n",
    "tweets_germany[['Date', 'Time']] = tweets_germany['t_datetime_goed'].str.split(expand=True)\n",
    "\n",
    "#Add column with month_year to dataframe\n",
    "tweets_germany['month_year'] = pd.to_datetime(tweets_germany['Date'], format = '%d-%m-%y').dt.to_period('m')"
   ]
  },
  {
   "cell_type": "code",
   "execution_count": 65,
   "metadata": {},
   "outputs": [],
   "source": [
    "#Create dataframes of the topics\n",
    "coronapolicies = tweets_germany[tweets_germany['nametopic'] == 'coronapolicies']\n",
    "lockdownactivities = tweets_germany[tweets_germany['nametopic'] == 'lockdownactivities']\n",
    "prevention = tweets_germany[tweets_germany['nametopic'] == 'prevention']"
   ]
  },
  {
   "cell_type": "markdown",
   "metadata": {},
   "source": [
    "Create graph with the frequency of tweets for each topic"
   ]
  },
  {
   "cell_type": "code",
   "execution_count": 44,
   "metadata": {},
   "outputs": [],
   "source": [
    "import plotly_express as px\n",
    "import numpy as np\n",
    "import matplotlib.pyplot as plt\n",
    "plt.style.use('seaborn')\n",
    "\n",
    "#Add topic names to DataFrame\n",
    "conditions = [\n",
    "    (tweets_germany['Topic'] == -1),\n",
    "    (tweets_germany['Topic'] == 0) | (tweets_germany['Topic'] == 2)| (tweets_germany['Topic'] == 4) | (tweets_germany['Topic'] == 6) | (tweets_germany['Topic'] == 13), \n",
    "    (tweets_germany['Topic'] == 1) | (tweets_germany['Topic'] == 5)| (tweets_germany['Topic'] == 10)  | (tweets_germany['Topic'] == 14) | (tweets_germany['Topic'] == 15), \n",
    "    (tweets_germany['Topic'] == 3) | (tweets_germany['Topic'] == 7)| (tweets_germany['Topic'] == 8) | (tweets_germany['Topic'] == 9) | (tweets_germany['Topic'] == 11)| (tweets_germany['Topic'] == 12)\n",
    "    ]\n",
    "\n",
    "values = ['outlier', 'coronapolicies','prevention','lockdownactivities']\n",
    "tweets_germany['nametopic'] = np.select(conditions, values)\n",
    "\n",
    "def frequencytweets (topicname, name, title, pngname):\n",
    "    df = tweets_germany[tweets_germany['nametopic'] == topicname]\n",
    "    \n",
    "    name = df['month_year'].value_counts().rename_axis('Month').reset_index(name='Counts').astype(str).sort_values('Month')\n",
    "    name['Counts'] = name['Counts'].astype(float)\n",
    "\n",
    "    fig = px.line(name, x=\"Month\", y=\"Counts\", title=title)\n",
    "    fig.write_image(pngname, width=1000, height=450)\n",
    "\n",
    "frequencytweets('coronapolicies', 'coronapoliciesvalues', 'Number of tweets per month for topic \"Corona and policies\"', 'Figures\\\\frequencycoronapolicies.png')\n",
    "frequencytweets('lockdownactivities', 'lockdownactivitiesvalues', 'Number of tweets per month for topic \"Lockdown activities\"', 'Figures\\\\frequencylockdownactivities.png')\n",
    "frequencytweets('prevention', 'preventionvalues', 'Number of tweets per month for topic \"Prevention\"', 'Figures\\\\frequencyprevention.png')"
   ]
  },
  {
   "cell_type": "markdown",
   "metadata": {},
   "source": [
    "Get frequency of all topics in one graph"
   ]
  },
  {
   "cell_type": "code",
   "execution_count": 45,
   "metadata": {},
   "outputs": [],
   "source": [
    "tweets_germany['count'] = 1\n",
    "alltopics = tweets_germany.groupby(['month_year','nametopic']).count()['count'].unstack().reset_index()\n",
    "alltopics['month_year'] = alltopics['month_year'].astype(str)\n",
    "fig = px.line(alltopics, x=\"month_year\", y=['coronapolicies','lockdownactivities', 'prevention'],  labels={\"month_year\": 'Month', \"value\":\"Frequency\", \"variable\":\"Label\", 'coronapolicies':\"Corona and policies\", \"prevention\":\"Prevention\",\"lockdownactivities\":\"Lockdown activities\"},title='Frequency of tweets per topic')\n",
    "fig.update_layout(legend=dict(\n",
    "    yanchor=\"top\",\n",
    "    y=0.96,\n",
    "    xanchor=\"right\",\n",
    "    x=0.99\n",
    "))\n",
    "legend = {'coronapolicies':\"Corona and policies\", \"prevention\":\"Prevention\",\"lockdownactivities\":\"Lockdown activities\"}\n",
    "fig.write_image('Figures\\\\frequencyalltopics.png', width=1000, height=450)"
   ]
  },
  {
   "cell_type": "markdown",
   "metadata": {},
   "source": [
    "Total percentage sentiment over time"
   ]
  },
  {
   "cell_type": "code",
   "execution_count": null,
   "metadata": {},
   "outputs": [],
   "source": [
    "import plotly_express as px\n",
    "\n",
    "totalsentiment = tweets_germany.groupby(['month_year', 'label']).count()['count'].unstack().reset_index().sort_values('month_year')\n",
    "totalsentiment['month_year'] = totalsentiment['month_year'].astype(str)\n",
    "totalsentiment['sum'] = totalsentiment['Negative'] + totalsentiment['Neutral'] + totalsentiment['Positive']\n",
    "\n",
    "totalsentiment['PCT_Negative'] = (totalsentiment.Negative / totalsentiment['sum'].sum()) * 100\n",
    "totalsentiment['PCT_Neutral'] = (totalsentiment.Neutral / totalsentiment['sum'].sum()) * 100\n",
    "totalsentiment['PCT_Positive'] = (totalsentiment.Positive / totalsentiment['sum'].sum()) * 100\n",
    "\n",
    "fig = px.line(totalsentiment, x='month_year', y=[\"PCT_Negative\", \"PCT_Neutral\", \"PCT_Positive\"], color_discrete_sequence=['red', 'grey', 'green'], labels={\"month_year\": 'Month', \"value\":\"Percentage\", \"variable\":\"Label\", 'PCT_Negative':\"Negative\", \"PCT_Neutral\":\"Neutral\",\"PCT_Positive\":\"Positive\"}, title=\"Percentage of tweets per sentiment over time\")\n",
    "fig.update_layout(legend=dict(\n",
    "        yanchor=\"top\",\n",
    "        y=0.96,\n",
    "        xanchor=\"right\",\n",
    "        x=0.99\n",
    "))\n",
    "legend = {'PCT_Negative':\"Negative\", \"PCT_Neutral\":\"Neutral\",\"PCT_Positive\":\"Positive\"}\n",
    "fig.for_each_trace((lambda t: t.update(name = legend[t.name])))\n",
    "fig.update_layout(yaxis_range=[0,13])\n",
    "fig.show()\n",
    "fig.write_image(\"Figures\\\\totalpctsentimentovertime.png\", width=1000, height=450)"
   ]
  },
  {
   "cell_type": "markdown",
   "metadata": {},
   "source": [
    "Get percentage of tweets per topic in one graph"
   ]
  },
  {
   "cell_type": "code",
   "execution_count": null,
   "metadata": {},
   "outputs": [],
   "source": [
    "alltopics = tweets_germany.groupby(['month_year','nametopic']).count()['count'].unstack().reset_index()\n",
    "alltopics['month_year'] = alltopics['month_year'].astype(str)\n",
    "alltopics['sum'] = alltopics['coronapolicies'] + alltopics['lockdownactivities'] + alltopics['prevention'] \n",
    "\n",
    "alltopics['PCT_coronapolicies'] = (alltopics.coronapolicies / alltopics['sum'].sum()) * 100\n",
    "alltopics['PCT_prevention'] = (alltopics.prevention / alltopics['sum'].sum()) * 100\n",
    "alltopics['PCT_lockdownactivities'] = (alltopics.lockdownactivities / alltopics['sum'].sum()) * 100\n",
    "\n",
    "fig = px.line(alltopics, x='month_year', y=['PCT_coronapolicies','PCT_lockdownactivities', 'PCT_prevention'], labels={\"month_year\": 'Month', \"value\":\"Percentage\", \"variable\":\"Label\", 'PCT_coronapolicies':\"Corona and policies\", \"PCT_prevention\":\"Prevention\",\"PCT_lockdownactivities\":\"Lockdown activities\"}, title='Percentage of tweets per topic')\n",
    "fig.update_layout(legend=dict(\n",
    "    yanchor=\"top\",\n",
    "    y=0.96,\n",
    "    xanchor=\"right\",\n",
    "    x=0.99\n",
    "))\n",
    "legend = {'PCT_coronapolicies':\"Corona and policies\", \"PCT_prevention\":\"Prevention\",\"PCT_lockdownactivities\":\"Lockdown activities\"}\n",
    "fig.for_each_trace((lambda t: t.update(name = legend[t.name])))\n",
    "fig.update_layout(yaxis_range=[0,13])\n",
    "fig.show()\n",
    "fig.write_image('Figures\\PCT_alltopicsfrequency.png', width=1000, height=450)"
   ]
  },
  {
   "cell_type": "markdown",
   "metadata": {},
   "source": [
    "Get percentage of total tweets per sentiment per topic in graph"
   ]
  },
  {
   "cell_type": "code",
   "execution_count": 85,
   "metadata": {},
   "outputs": [],
   "source": [
    "events = pd.DataFrame()\n",
    "events['event'] = ['Start pandemic', 'Less restrictions', 'New years even speech Merkel', 'Further restrictions', 'Closing of retail', 'Prolongation restrictions','Corona speech Merkel', 'Mask obligation', 'Start vaccinations', '3G-rules', 'Nationwide 2G-rules and contact restrictions']\n",
    "events['Month'] = ['03-2020', '04-2020', '01-2021', '09-2021', '12-2021', '04-2021', '03-2020', '04-2020', '12-2021', '08-2021', '12-2021']\n",
    "events['Month'] = pd.to_datetime(events['Month'], format = '%m-%Y').dt.to_period('m')"
   ]
  },
  {
   "cell_type": "code",
   "execution_count": 176,
   "metadata": {},
   "outputs": [],
   "source": [
    "import datetime\n",
    "def events_coronapolicies (topicname, title, pngname):\n",
    "    topictweets = tweets_germany[tweets_germany['nametopic'] == topicname]\n",
    "    \n",
    "    topictweets['count'] = 1\n",
    "    topicsentiment = topictweets.groupby(['month_year', 'label']).count()['count'].unstack().reset_index().sort_values('month_year')\n",
    "    topicsentiment['month_year'] = totalsentiment['month_year'].astype(str)\n",
    "    \n",
    "    topicsentiment = topicsentiment.fillna(0)\n",
    "\n",
    "    topicsentiment['sum'] = topicsentiment['Negative'] + topicsentiment['Neutral'] + topicsentiment['Positive']\n",
    "\n",
    "    topicsentiment['PCT_Negative'] = (topicsentiment.Negative / topicsentiment['sum'].sum()) * 100\n",
    "    topicsentiment['PCT_Neutral'] = (topicsentiment.Neutral / topicsentiment['sum'].sum()) * 100\n",
    "    topicsentiment['PCT_Positive'] = (topicsentiment.Positive / topicsentiment['sum'].sum()) * 100\n",
    "\n",
    "    fig = px.line(topicsentiment, x='month_year', y=[\"PCT_Negative\", \"PCT_Neutral\", \"PCT_Positive\"], color_discrete_sequence=['red', 'grey', 'green'], labels={\"month_year\": 'Month', \"value\":\"Percentage\", \"variable\":\"Label\", 'PCT_Negative':\"Negative\", \"PCT_Neutral\":\"Neutral\",\"PCT_Positive\":\"Positive\"}, title=title)\n",
    "    fig.add_vline(x=datetime.datetime.strptime(\"2020-03\", \"%Y-%m\").timestamp() * 1000 ,  line_width=1, line_dash=\"dash\", line_color='black', annotation_text='Start pandemic', annotation_position=\"top left\")\n",
    "    fig.add_vline(x=datetime.datetime.strptime(\"2020-04\", \"%Y-%m\").timestamp() * 1000 ,  line_width=1, line_dash=\"dash\", line_color='black', annotation_text='Less restrictions')\n",
    "    fig.add_vline(x=datetime.datetime.strptime(\"2020-12\", \"%Y-%m\").timestamp() * 1000 ,  line_width=1, line_dash=\"dash\", line_color='black', annotation_text='New years eve<br>speech Merkel')\n",
    "    fig.add_vline(x=datetime.datetime.strptime(\"2021-08\", \"%Y-%m\").timestamp() * 1000 ,  line_width=1, line_dash=\"dash\", line_color='black', annotation_text='3G-rules', annotation_position=\"top left\")\n",
    "    fig.add_vline(x=datetime.datetime.strptime(\"2021-11\", \"%Y-%m\").timestamp() * 1000 ,  line_width=1, line_dash=\"dash\", line_color='black', annotation_text='Nationwide<br>2G-rules<br>and<br>contact<br>restrictions', annotation_position=\"top left\")\n",
    "    legend = {'PCT_Negative':\"Negative\", \"PCT_Neutral\":\"Neutral\",\"PCT_Positive\":\"Positive\"}\n",
    "    fig.for_each_trace((lambda t: t.update(name = legend[t.name])))\n",
    "    fig.update_layout(yaxis_range=[0,13])\n",
    "    fig.show()\n",
    "    fig.write_image(pngname, width=1000, height=450)\n",
    "\n",
    "events_coronapolicies('coronapolicies', \"Corona and policies: Percentage of tweets per sentiment over time\",'Figures\\events_pctsentimentcoronapoliciesovertime.png')"
   ]
  },
  {
   "cell_type": "code",
   "execution_count": 182,
   "metadata": {},
   "outputs": [],
   "source": [
    "import datetime\n",
    "def events_lockdown (topicname, title, pngname):\n",
    "    topictweets = tweets_germany[tweets_germany['nametopic'] == topicname]\n",
    "    \n",
    "    topictweets['count'] = 1\n",
    "    topicsentiment = topictweets.groupby(['month_year', 'label']).count()['count'].unstack().reset_index().sort_values('month_year')\n",
    "    topicsentiment['month_year'] = totalsentiment['month_year'].astype(str)\n",
    "    \n",
    "    topicsentiment = topicsentiment.fillna(0)\n",
    "\n",
    "    topicsentiment['sum'] = topicsentiment['Negative'] + topicsentiment['Neutral'] + topicsentiment['Positive']\n",
    "\n",
    "    topicsentiment['PCT_Negative'] = (topicsentiment.Negative / topicsentiment['sum'].sum()) * 100\n",
    "    topicsentiment['PCT_Neutral'] = (topicsentiment.Neutral / topicsentiment['sum'].sum()) * 100\n",
    "    topicsentiment['PCT_Positive'] = (topicsentiment.Positive / topicsentiment['sum'].sum()) * 100\n",
    "\n",
    "    fig = px.line(topicsentiment, x='month_year', y=[\"PCT_Negative\", \"PCT_Neutral\", \"PCT_Positive\"], color_discrete_sequence=['red', 'grey', 'green'], labels={\"month_year\": 'Month', \"value\":\"Percentage\", \"variable\":\"Label\", 'PCT_Negative':\"Negative\", \"PCT_Neutral\":\"Neutral\",\"PCT_Positive\":\"Positive\"}, title=title)\n",
    "    fig.add_vline(x=datetime.datetime.strptime(\"2020-03\", \"%Y-%m\").timestamp() * 1000 ,  line_width=1, line_dash=\"dash\", line_color='black', annotation_text='Start pandemic', annotation_position=\"top left\")\n",
    "    fig.add_vline(x=datetime.datetime.strptime(\"2020-09\", \"%Y-%m\").timestamp() * 1000 ,  line_width=1, line_dash=\"dash\", line_color='black', annotation_text='Further restrictions', annotation_position=\"top left\")\n",
    "    fig.add_vline(x=datetime.datetime.strptime(\"2020-12\", \"%Y-%m\").timestamp() * 1000 ,  line_width=1, line_dash=\"dash\", line_color='black', annotation_text='Closing of<br>retail', annotation_position=\"top left\")\n",
    "    fig.add_vline(x=datetime.datetime.strptime(\"2021-04\", \"%Y-%m\").timestamp() * 1000 ,  line_width=1, line_dash=\"dash\", line_color='black', annotation_text='Prolongation<br>restrictions', annotation_position=\"top left\")\n",
    "    fig.add_vline(x=datetime.datetime.strptime(\"2021-08\", \"%Y-%m\").timestamp() * 1000 ,  line_width=1, line_dash=\"dash\", line_color='black', annotation_text='3G-rules', annotation_position=\"top left\")\n",
    "    fig.add_vline(x=datetime.datetime.strptime(\"2021-11\", \"%Y-%m\").timestamp() * 1000 ,  line_width=1, line_dash=\"dash\", line_color='black', annotation_text='Nationwide<br>2G-rules<br>and<br>contact<br>restrictions', annotation_position=\"top left\")\n",
    "    legend = {'PCT_Negative':\"Negative\", \"PCT_Neutral\":\"Neutral\",\"PCT_Positive\":\"Positive\"}\n",
    "    fig.for_each_trace((lambda t: t.update(name = legend[t.name])))\n",
    "    fig.update_layout(yaxis_range=[0,13])\n",
    "    fig.show()\n",
    "    fig.write_image(pngname, width=1000, height=450)\n",
    "\n",
    "events_lockdown('lockdownactivities', \"Lockdown activities: Percentage of tweets per sentiment over time\",'Figures\\events_pctsentimentlockdownactivitiesovertime.png')"
   ]
  },
  {
   "cell_type": "code",
   "execution_count": null,
   "metadata": {},
   "outputs": [],
   "source": [
    "import datetime\n",
    "def events_prevention (topicname, title, pngname):\n",
    "    topictweets = tweets_germany[tweets_germany['nametopic'] == topicname]\n",
    "    \n",
    "    topictweets['count'] = 1\n",
    "    topicsentiment = topictweets.groupby(['month_year', 'label']).count()['count'].unstack().reset_index().sort_values('month_year')\n",
    "    topicsentiment['month_year'] = totalsentiment['month_year'].astype(str)\n",
    "    \n",
    "    topicsentiment = topicsentiment.fillna(0)\n",
    "\n",
    "    topicsentiment['sum'] = topicsentiment['Negative'] + topicsentiment['Neutral'] + topicsentiment['Positive']\n",
    "\n",
    "    topicsentiment['PCT_Negative'] = (topicsentiment.Negative / topicsentiment['sum'].sum()) * 100\n",
    "    topicsentiment['PCT_Neutral'] = (topicsentiment.Neutral / topicsentiment['sum'].sum()) * 100\n",
    "    topicsentiment['PCT_Positive'] = (topicsentiment.Positive / topicsentiment['sum'].sum()) * 100\n",
    "\n",
    "    fig = px.line(topicsentiment, x='month_year', y=[\"PCT_Negative\", \"PCT_Neutral\", \"PCT_Positive\"], color_discrete_sequence=['red', 'grey', 'green'], labels={\"month_year\": 'Month', \"value\":\"Percentage\", \"variable\":\"Label\", 'PCT_Negative':\"Negative\", \"PCT_Neutral\":\"Neutral\",\"PCT_Positive\":\"Positive\"}, title=title)\n",
    "    fig.add_vline(x=datetime.datetime.strptime(\"2020-03\", \"%Y-%m\").timestamp() * 1000 ,  line_width=1, line_dash=\"dash\", line_color='black', annotation_text='Corona speech Merkel', annotation_position=\"top left\")\n",
    "    fig.add_vline(x=datetime.datetime.strptime(\"2020-09\", \"%Y-%m\").timestamp() * 1000 ,  line_width=1, line_dash=\"dash\", line_color='black', annotation_text='Mask obligation', annotation_position=\"top left\")\n",
    "    fig.add_vline(x=datetime.datetime.strptime(\"2020-12\", \"%Y-%m\").timestamp() * 1000 ,  line_width=1, line_dash=\"dash\", line_color='black', annotation_text='Start vaccinations')\n",
    "    fig.add_vline(x=datetime.datetime.strptime(\"2021-08\", \"%Y-%m\").timestamp() * 1000 ,  line_width=1, line_dash=\"dash\", line_color='black', annotation_text='3G-rules', annotation_position=\"top left\")\n",
    "    fig.add_vline(x=datetime.datetime.strptime(\"2021-11\", \"%Y-%m\").timestamp() * 1000 ,  line_width=1, line_dash=\"dash\", line_color='black', annotation_text='Nationwide<br>2G-rules<br>and<br>contact<br>restrictions', annotation_position='top left')\n",
    "    legend = {'PCT_Negative':\"Negative\", \"PCT_Neutral\":\"Neutral\",\"PCT_Positive\":\"Positive\"}\n",
    "    fig.for_each_trace((lambda t: t.update(name = legend[t.name])))\n",
    "    fig.update_layout(yaxis_range=[0,13])\n",
    "    fig.show()\n",
    "    fig.write_image(pngname, width=1000, height=450)\n",
    "\n",
    "events_prevention('prevention', \"Prevention: Percentage of tweets per sentiment over time\",'Figures\\events_pctsentimentcpreventionovertime.png')"
   ]
  },
  {
   "cell_type": "code",
   "execution_count": null,
   "metadata": {},
   "outputs": [],
   "source": [
    "def pct_sentimentpertopic (topicname, title, pngname):\n",
    "    topictweets = tweets_germany[tweets_germany['nametopic'] == topicname]\n",
    "    \n",
    "    topictweets['count'] = 1\n",
    "    topicsentiment = topictweets.groupby(['month_year', 'label']).count()['count'].unstack().reset_index().sort_values('month_year')\n",
    "    topicsentiment['month_year'] = totalsentiment['month_year'].astype(str)\n",
    "    \n",
    "    topicsentiment = topicsentiment.fillna(0)\n",
    "\n",
    "    topicsentiment['sum'] = topicsentiment['Negative'] + topicsentiment['Neutral'] + topicsentiment['Positive']\n",
    "\n",
    "    topicsentiment['PCT_Negative'] = (topicsentiment.Negative / topicsentiment['sum'].sum()) * 100\n",
    "    topicsentiment['PCT_Neutral'] = (topicsentiment.Neutral / topicsentiment['sum'].sum()) * 100\n",
    "    topicsentiment['PCT_Positive'] = (topicsentiment.Positive / topicsentiment['sum'].sum()) * 100\n",
    "\n",
    "    fig = px.line(topicsentiment, x='month_year', y=[\"PCT_Negative\", \"PCT_Neutral\", \"PCT_Positive\"], color_discrete_sequence=['red', 'grey', 'green'], labels={\"month_year\": 'Month', \"value\":\"Percentage\", \"variable\":\"Label\", 'PCT_Negative':\"Negative\", \"PCT_Neutral\":\"Neutral\",\"PCT_Positive\":\"Positive\"}, title=title)\n",
    "    fig.update_layout(legend=dict(\n",
    "        yanchor=\"top\",\n",
    "        y=0.96,\n",
    "        xanchor=\"right\",\n",
    "        x=0.99\n",
    "    ))\n",
    "    legend = {'PCT_Negative':\"Negative\", \"PCT_Neutral\":\"Neutral\",\"PCT_Positive\":\"Positive\"}\n",
    "    fig.for_each_trace((lambda t: t.update(name = legend[t.name])))\n",
    "    fig.update_layout(yaxis_range=[0,13])\n",
    "    fig.show()\n",
    "    fig.write_image(pngname, width=1000, height=450)"
   ]
  },
  {
   "cell_type": "code",
   "execution_count": null,
   "metadata": {},
   "outputs": [],
   "source": [
    "pct_sentimentpertopic('coronapolicies', \"Corona and policies: Percentage of tweets per sentiment over time\",'Figures\\pctsentimentcoronapoliciesovertime.png')\n",
    "pct_sentimentpertopic('lockdownactivities', \"Lockdown activities: Percentage of tweets per sentiment over time\",'Figures\\pctsentimentlockdownactivitiesovertime.png')\n",
    "pct_sentimentpertopic('prevention', \"Prevention: Percentage of tweets per sentiment over time\",'Figures\\pctsentimentcpreventionovertime.png')"
   ]
  },
  {
   "cell_type": "markdown",
   "metadata": {},
   "source": [
    "Get percentage of tweets of each sentiment per topic over time"
   ]
  },
  {
   "cell_type": "code",
   "execution_count": null,
   "metadata": {},
   "outputs": [],
   "source": [
    "#Create dataframe with the month, topics, label and counts per label\n",
    "sentimentalltopics = tweets_germany.groupby(['month_year','nametopic','label']).count()['count'].unstack().reset_index()\n",
    "sentimentalltopics['month_year'] = sentimentalltopics['month_year'].astype(str)\n",
    "sentimentalltopics  = ssentimentalltopics['month_year'] = sentimentalltopics['month_year'].astype(str)entimentalltopics.fillna(0)\n",
    "\n",
    "#Create sum of tweets per month per topic\n",
    "sentimentalltopics['sum'] = sentimentalltopics['Negative'] + sentimentalltopics['Positive'] + sentimentalltopics['Neutral'] \n",
    "\n",
    "#Calculate percentage of sentiment per month\n",
    "sentimentalltopics['PCT_Negative'] = (sentimentalltopics.Negative / sentimentalltopics['sum']) * 100\n",
    "sentimentalltopics['PCT_Neutral'] = (sentimentalltopics.Neutral / sentimentalltopics['sum']) * 100\n",
    "sentimentalltopics['PCT_Positive'] = (sentimentalltopics.Positive / sentimentalltopics['sum']) * 100\n",
    "\n",
    "#Calculate percentage of negative tweets per topic (from the total tweets in that topic)\n",
    "#First, add total tweets per topic in new column\n",
    "sentimentalltopics.loc[sentimentalltopics['nametopic'] == 'coronapolicies', 'coronasum'] = '3310'\n",
    "sentimentalltopics.loc[sentimentalltopics['nametopic'] == 'lockdownactivities', 'coronasum'] = '2665'\n",
    "sentimentalltopics.loc[sentimentalltopics['nametopic'] == 'prevention', 'coronasum'] = '2480'\n",
    "sentimentalltopics['coronasum'] = sentimentalltopics['coronasum'].astype('float')\n",
    "\n",
    "sentimentalltopics['topicNegative'] = (sentimentalltopics.Negative / sentimentalltopics.coronasum) * 100\n",
    "sentimentalltopics['topicNeutral'] = (sentimentalltopics.Neutral / sentimentalltopics.coronasum) * 100\n",
    "sentimentalltopics['topicPositive'] = (sentimentalltopics.Positive / sentimentalltopics.coronasum) * 100\n",
    "\n",
    "#Dataframe without the outlier category\n",
    "sentimenttopics = sentimentalltopics.loc[(sentimentalltopics['nametopic'] == 'lockdownactivities') | (sentimentalltopics['nametopic'] == 'coronapolicies') | (sentimentalltopics['nametopic'] == 'prevention')]\n",
    "sentimenttopics['month_year'] = sentimenttopics['month_year'].astype('datetime64')\n",
    "#Change names of topics\n",
    "sentimenttopics[\"nametopic\"] = sentimenttopics[\"nametopic\"].map({'coronapolicies': \"Corona and policies\", 'lockdownactivities': \"Lockdown activities\", 'prevention': \"Prevention\"})\n"
   ]
  },
  {
   "cell_type": "code",
   "execution_count": null,
   "metadata": {},
   "outputs": [],
   "source": [
    "#Create graph with the percentage of sentiment per topic in each month\n",
    "import numpy as np\n",
    "import seaborn as sns\n",
    "import pandas as pd\n",
    "import matplotlib.pyplot as plt\n",
    "\n",
    "grid = sns.FacetGrid(sentimenttopics, col='nametopic', hue='nametopic', col_wrap=2, height=5, legend_out=True )\n",
    "\n",
    "grid = grid.map(plt.plot, 'month_year', 'topicNegative', color='red')\n",
    "grid = grid.map(plt.plot, 'month_year', 'topicPositive', color='green')\n",
    "grid = grid.map(plt.plot, 'month_year', 'topicNeutral', color='blue')\n",
    "\n",
    "grid = grid.set_titles(col_template=\"{col_name}\", fontsize=20,fontweight='bold')\n",
    "\n",
    "grid.fig.suptitle('Percentage of tweets of each sentiment per topic over time', fontsize=20)\n",
    "\n",
    "for ax in grid.axes.ravel():\n",
    "    ax.legend(labels=['Negative', 'Positive', 'Neutral'], fontsize=13)\n",
    "    ax.margins(0.00001)\n",
    "    ax.tick_params(labelbottom=True, labelleft=True)\n",
    "\n",
    "grid.set_xlabels('Date', fontsize=14)\n",
    "grid.set_ylabels('Percentage', fontsize=14)\n",
    "\n",
    "plt.subplots_adjust(top=0.92)\n",
    "grid = grid.figure.set_size_inches(20,15)"
   ]
  },
  {
   "cell_type": "code",
   "execution_count": null,
   "metadata": {},
   "outputs": [],
   "source": [
    "#Create figure containing the percentage of negative and positive tweets of all tweets in a month, per topic\n",
    "\n",
    "grid = sns.FacetGrid(sentimenttopics, col='nametopic', hue='nametopic', col_wrap=2, height=5, legend_out=True )\n",
    "\n",
    "grid = grid.map(plt.plot, 'month_year', 'PCT_Negative', color='r')\n",
    "grid = grid.map(plt.plot, 'month_year', 'PCT_Positive', color='k', linestyle = 'dashed' )\n",
    "\n",
    "\n",
    "grid = grid.map(plt.fill_between, 'month_year', 'PCT_Negative', alpha=0.2, color='r').set_titles(\"{col_name} nametopic\")\n",
    "grid = grid.map(plt.fill_between, 'month_year', 'PCT_Positive', alpha=0.2, hatch = '//', color='none').set_titles(\"{col_name} nametopic\")\n",
    "\n",
    "grid = grid.set_titles(col_template=\"{col_name}\", fontsize=20,fontweight='bold')\n",
    "\n",
    "\n",
    "grid.fig.suptitle('Percentage of negative and positive tweets per topic (of all tweets in a month)', fontsize=20,)\n",
    "\n",
    "for ax in grid.axes.ravel():\n",
    "    ax.legend(labels=['Negative', 'Positive'], fontsize=13)\n",
    "    ax.margins(0.00001)\n",
    "    ax.tick_params(labelbottom=True)\n",
    "\n",
    "grid.set_xlabels('Date', fontsize=14)\n",
    "grid.set_ylabels('Percentage', fontsize=14)\n",
    "\n",
    "plt.subplots_adjust(top=0.92)\n",
    "grid = grid.figure.set_size_inches(20,15)"
   ]
  },
  {
   "cell_type": "markdown",
   "metadata": {},
   "source": [
    "Augmented Dickey-Fuller test "
   ]
  },
  {
   "cell_type": "code",
   "execution_count": 59,
   "metadata": {},
   "outputs": [],
   "source": [
    "tweets_germany['count'] = 1\n",
    "tweets_germany['month_year'] = pd.to_datetime(tweets_germany['Date'], format = '%d-%m-%y').dt.to_period('m')\n",
    "\n",
    "#Create dataframe containing topics\n",
    "topics = tweets_germany.groupby(['month_year','nametopic']).count()['count'].unstack().reset_index()\n",
    "#topics = topics.fillna(0)\n",
    "\n",
    "#Create dataframe containing the sentiments\n",
    "sentiments = tweets_germany.groupby(['month_year', 'label']).count()['count'].unstack().reset_index()"
   ]
  },
  {
   "cell_type": "code",
   "execution_count": 60,
   "metadata": {},
   "outputs": [],
   "source": [
    "from statsmodels.tsa.stattools import adfuller\n",
    "\n",
    "#Label is sentiment or topic\n",
    "def ADF (data, label):\n",
    "    series = data.loc[:, label].values\n",
    "    result = adfuller(series)\n",
    "    print(label)\n",
    "    print('ADF Statistic: %f' % result[0])\n",
    "    print('p-value: %f' % result[1])\n",
    "    print('Critical Values:')\n",
    "    for key, value in result[4].items():\n",
    "\t    print('\\t%s: %.3f' % (key, value))"
   ]
  },
  {
   "cell_type": "code",
   "execution_count": null,
   "metadata": {},
   "outputs": [],
   "source": [
    "ADF(sentiments, 'Positive')\n",
    "ADF(sentiments, 'Negative')\n",
    "ADF(sentiments, 'Neutral')\n",
    "\n",
    "ADF(topics, 'coronapolicies')\n",
    "ADF(topics, 'lockdownactivities')\n",
    "ADF(topics, 'prevention')"
   ]
  }
 ],
 "metadata": {
  "kernelspec": {
   "display_name": "Python 3.8.12",
   "language": "python",
   "name": "python3"
  },
  "language_info": {
   "codemirror_mode": {
    "name": "ipython",
    "version": 3
   },
   "file_extension": ".py",
   "mimetype": "text/x-python",
   "name": "python",
   "nbconvert_exporter": "python",
   "pygments_lexer": "ipython3",
   "version": "3.8.12"
  },
  "orig_nbformat": 4,
  "vscode": {
   "interpreter": {
    "hash": "f1638be7ebbf05af5870fdc927cbfd7e5796b8b306115e1f4a5e53bb99b67796"
   }
  }
 },
 "nbformat": 4,
 "nbformat_minor": 2
}
