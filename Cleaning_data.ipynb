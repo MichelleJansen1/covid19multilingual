{
 "cells": [
  {
   "cell_type": "markdown",
   "metadata": {},
   "source": [
    "## <b>Cleaning the dataset for analysis</b>\n",
    "<i>This code is written for cleaning a dataset of tweets. Tweets often contain noise, which makes it important to remove that noise to be able to analyse the tweets. </i>\n",
    "\n",
    "First, the <u>geoso</u> library is used for transferring the text to lowercase, removing repeated characters, removing usernames, stop words, URLs, special characters, numbers, and punctuation signs, and replacing hashtags with their text."
   ]
  },
  {
   "cell_type": "code",
   "execution_count": 15,
   "metadata": {},
   "outputs": [],
   "source": [
    "#Import necessary libraries\n",
    "import pandas as pd\n",
    "from geoso import twitter_clean_text_in_dataframe\n",
    "\n",
    "#Read the data file with pandas\n",
    "outputgermany = pd.read_csv('Data\\\\output_germany.csv')\n",
    "\n",
    "#Create dataframe\n",
    "tweets_germany = pd.DataFrame(outputgermany)\n",
    "\n",
    "#Clean the data and add new column with the cleaned text\n",
    "tweets_germany['text_clean'] = twitter_clean_text_in_dataframe(tweets_germany, text_column='text', lang_code_column='lang')"
   ]
  },
  {
   "cell_type": "markdown",
   "metadata": {},
   "source": [
    "The only thing that is not included in the geoso library is dealing with emoticons. As emoticons are an important part of the meaning of a text, it is useful to keep them while analysing the tweets. However, the emoticons have to be converted to their textual meaning. This can be done using the <u>emoji</u> library."
   ]
  },
  {
   "cell_type": "code",
   "execution_count": 16,
   "metadata": {},
   "outputs": [],
   "source": [
    "#Import the necessary library\n",
    "import emoji\n",
    "\n",
    "#Replace the emoticons with text for each row, while adding a new column with the new cleaned text\n",
    "tweets_germany = (\n",
    "    tweets_germany.assign(emoji_clean_text = lambda x: x['text_clean'].astype(str).apply(lambda s: emoji.demojize(s))))"
   ]
  },
  {
   "cell_type": "code",
   "execution_count": null,
   "metadata": {},
   "outputs": [],
   "source": [
    "datum = tweets_germany['t_datetime'].str[:3] + tweets_germany['t_datetime'].str[4:]\n",
    "input_str = pd.DataFrame(datum)\n",
    "tweets_germany['t_datetime_goed'] = input_str\n",
    "tweets_germany"
   ]
  },
  {
   "cell_type": "code",
   "execution_count": 41,
   "metadata": {},
   "outputs": [],
   "source": [
    "#Convert DateTime column to two columns containing the date and the time\n",
    "tweets_germany[['Date', 'Time']] = tweets_germany['t_datetime_goed'].str.split(expand=True)\n",
    "tweets_germany['Date'] = pd.to_datetime(tweets_germany.Date)"
   ]
  },
  {
   "cell_type": "markdown",
   "metadata": {},
   "source": [
    "After the cleaning, the data can be exported to a csv file again."
   ]
  },
  {
   "cell_type": "code",
   "execution_count": 43,
   "metadata": {},
   "outputs": [],
   "source": [
    "#Export as csv\n",
    "    #index=False means that the index of the python dataframe will not be exported\n",
    "    #header=True means that the headers in the python dataframe will be used in the csv as well\n",
    "tweets_germany.to_csv('Data\\\\clean_tweets_germany.csv', index = False, header='true')"
   ]
  }
 ],
 "metadata": {
  "kernelspec": {
   "display_name": "Python 3.8.12",
   "language": "python",
   "name": "python3"
  },
  "language_info": {
   "codemirror_mode": {
    "name": "ipython",
    "version": 3
   },
   "file_extension": ".py",
   "mimetype": "text/x-python",
   "name": "python",
   "nbconvert_exporter": "python",
   "pygments_lexer": "ipython3",
   "version": "3.8.12"
  },
  "orig_nbformat": 4,
  "vscode": {
   "interpreter": {
    "hash": "f1638be7ebbf05af5870fdc927cbfd7e5796b8b306115e1f4a5e53bb99b67796"
   }
  }
 },
 "nbformat": 4,
 "nbformat_minor": 2
}
